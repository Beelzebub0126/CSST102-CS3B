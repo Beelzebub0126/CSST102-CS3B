{
  "nbformat": 4,
  "nbformat_minor": 0,
  "metadata": {
    "colab": {
      "provenance": []
    },
    "kernelspec": {
      "name": "python3",
      "display_name": "Python 3"
    },
    "language_info": {
      "name": "python"
    }
  },
  "cells": [
    {
      "cell_type": "markdown",
      "source": [
        "Import Libraries"
      ],
      "metadata": {
        "id": "eaGpoeYgSIrV"
      }
    },
    {
      "cell_type": "code",
      "execution_count": 19,
      "metadata": {
        "id": "HDQThQElw3mC"
      },
      "outputs": [],
      "source": [
        "import pandas as pd\n",
        "from sklearn.preprocessing import MinMaxScaler\n",
        "import numpy as np\n",
        "from sklearn.model_selection import train_test_split\n",
        "import matplotlib.pyplot as plt"
      ]
    },
    {
      "cell_type": "markdown",
      "source": [
        "1. Data Preprocessing:"
      ],
      "metadata": {
        "id": "omah6vQxPoC7"
      }
    },
    {
      "cell_type": "code",
      "source": [
        "# Load the dataset\n",
        "data = pd.read_csv('/content/datasets_house_prices.csv')\n",
        "print(data.head())\n",
        "\n",
        "# Check and fill missing values\n",
        "print(data.isnull().sum())\n",
        "data.fillna(data.mean(), inplace=True)\n",
        "\n",
        "# Normalize features\n",
        "scaler = MinMaxScaler()\n",
        "features = ['Size (sqft)', 'Bedrooms', 'Age']\n",
        "data[features] = scaler.fit_transform(data[features])\n",
        "\n",
        "print(data.head())"
      ],
      "metadata": {
        "colab": {
          "base_uri": "https://localhost:8080/"
        },
        "id": "Fy-fLSO0xHSp",
        "outputId": "9af9726a-e421-4b6b-8ce3-fcba5710172c"
      },
      "execution_count": 20,
      "outputs": [
        {
          "output_type": "stream",
          "name": "stdout",
          "text": [
            "   Size (sqft)  Bedrooms  Age  Proximity to Downtown (miles)         Price\n",
            "0         3974         1   97                       2.032719  1.162771e+06\n",
            "1         1660         5   88                      23.695207  4.900021e+05\n",
            "2         2094         4   49                       6.440232  6.400737e+05\n",
            "3         1930         2   28                       8.129315  5.637881e+05\n",
            "4         1895         1   56                       5.358837  5.651289e+05\n",
            "Size (sqft)                      0\n",
            "Bedrooms                         0\n",
            "Age                              0\n",
            "Proximity to Downtown (miles)    0\n",
            "Price                            0\n",
            "dtype: int64\n",
            "   Size (sqft)  Bedrooms       Age  Proximity to Downtown (miles)  \\\n",
            "0     0.992804      0.00  0.979798                       2.032719   \n",
            "1     0.268773      1.00  0.888889                      23.695207   \n",
            "2     0.404568      0.75  0.494949                       6.440232   \n",
            "3     0.353254      0.25  0.282828                       8.129315   \n",
            "4     0.342303      0.00  0.565657                       5.358837   \n",
            "\n",
            "          Price  \n",
            "0  1.162771e+06  \n",
            "1  4.900021e+05  \n",
            "2  6.400737e+05  \n",
            "3  5.637881e+05  \n",
            "4  5.651289e+05  \n"
          ]
        }
      ]
    },
    {
      "cell_type": "markdown",
      "source": [
        "2. Model Implementation:"
      ],
      "metadata": {
        "id": "bmyd8WmHQLEj"
      }
    },
    {
      "cell_type": "code",
      "source": [
        "# Set features (X) and target (y)\n",
        "X = data[['Size (sqft)', 'Bedrooms', 'Age']].values\n",
        "y = data['Price'].values\n",
        "\n",
        "# Add bias term (intercept)\n",
        "X_b = np.c_[np.ones((X.shape[0], 1)), X]\n",
        "\n",
        "# Calculate model parameters (theta) using normal equation\n",
        "theta = np.linalg.inv(X_b.T.dot(X_b)).dot(X_b.T).dot(y)\n",
        "\n",
        "# Show intercept and coefficients\n",
        "intercept = theta[0]\n",
        "coefficients = theta[1:]\n",
        "print(f'Intercept: {intercept}, Coefficients: {coefficients}')\n",
        "\n",
        "# Prediction function\n",
        "def predict(X, theta):\n",
        "    X_b = np.c_[np.ones((X.shape[0], 1)), X]\n",
        "    return X_b.dot(theta)"
      ],
      "metadata": {
        "colab": {
          "base_uri": "https://localhost:8080/"
        },
        "id": "_1MUOd49xkAp",
        "outputId": "279b912d-9b21-419f-ff0b-bbd112b0f907"
      },
      "execution_count": 21,
      "outputs": [
        {
          "output_type": "stream",
          "name": "stdout",
          "text": [
            "Intercept: 230359.81519390657, Coefficients: [959690.20271217  19163.6461528  -20411.76938653]\n"
          ]
        }
      ]
    },
    {
      "cell_type": "markdown",
      "source": [
        "3. Model Training:"
      ],
      "metadata": {
        "id": "4Abm_5l6QlP7"
      }
    },
    {
      "cell_type": "code",
      "source": [
        "# Split data into training and test sets\n",
        "X_train, X_test, y_train, y_test = train_test_split(X, y, test_size=0.2, random_state=42)\n",
        "\n",
        "# Predict and calculate MSE on training set\n",
        "y_train_pred = predict(X_train, theta)\n",
        "mse_train = np.mean((y_train_pred - y_train)**2)\n",
        "print(f'Training MSE: {mse_train}')"
      ],
      "metadata": {
        "colab": {
          "base_uri": "https://localhost:8080/"
        },
        "id": "HTScJ7hDyaCS",
        "outputId": "7fa9c551-ab3c-4e43-9b4a-3dcb9793898d"
      },
      "execution_count": 22,
      "outputs": [
        {
          "output_type": "stream",
          "name": "stdout",
          "text": [
            "Training MSE: 170450151.700481\n"
          ]
        }
      ]
    },
    {
      "cell_type": "markdown",
      "source": [
        "4. Model Evaluation:"
      ],
      "metadata": {
        "id": "HYve0-NBQpub"
      }
    },
    {
      "cell_type": "code",
      "source": [
        "# Predict and calculate MSE on test set\n",
        "y_test_pred = predict(X_test, theta)\n",
        "mse_test = np.mean((y_test_pred - y_test)**2)\n",
        "print(f'Testing MSE: {mse_test}')\n",
        "\n",
        "# Plot actual vs predicted prices\n",
        "plt.scatter(X_test[:, 0], y_test, color='blue', label='Actual Prices')\n",
        "plt.plot(X_test[:, 0], y_test_pred, color='red', label='Predicted Prices')\n",
        "plt.xlabel('Size of House (sq ft)')\n",
        "plt.ylabel('Price')\n",
        "plt.title('House Price Prediction')\n",
        "plt.legend()\n",
        "plt.show()"
      ],
      "metadata": {
        "colab": {
          "base_uri": "https://localhost:8080/",
          "height": 489
        },
        "id": "c92x0FWcyjJR",
        "outputId": "cc15b661-45db-4f90-d3ea-8087068c3e96"
      },
      "execution_count": 23,
      "outputs": [
        {
          "output_type": "stream",
          "name": "stdout",
          "text": [
            "Testing MSE: 166330956.19491982\n"
          ]
        },
        {
          "output_type": "display_data",
          "data": {
            "text/plain": [
              "<Figure size 640x480 with 1 Axes>"
            ],
            "image/png": "[encoded data removed]"
          },
          "metadata": {}
        }
      ]
    }
  ]
}